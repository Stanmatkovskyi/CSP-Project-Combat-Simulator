import random
import matplotlib.pyplot as plt

# Global flag: if True, scale a unit's efficiency by (current health / max health)
SCALE_EFFICIENCY = False

# -----------------------------
# Unit Class Definition
# -----------------------------
class Unit:
    def __init__(self, unit_type, health, efficiencies):
        """
        :param unit_type: String identifier (e.g. "A", "B", "X", "Y").
        :param health: Initial (and maximum) health points.
        :param efficiencies: Dictionary mapping enemy types to base damage per timestep.
                             E.g., {"X": 2, "Y": 3} means 2 damage vs. X and 3 vs. Y.
        """
        self.unit_type = unit_type
        self.health = health
        self.max_health = health
        self.efficiencies = efficiencies

    def __repr__(self):
        return f"{self.unit_type}(HP:{self.health})"

# -----------------------------
# Helper: Compute Composition
# -----------------------------
def compute_composition(army):
    """
    Returns a tuple (composition, total) where composition is a dict mapping unit types to counts.
    """
    comp = {}
    for unit in army:
        comp[unit.unit_type] = comp.get(unit.unit_type, 0) + 1
    return comp, len(army)

# -----------------------------
# Helper: Efficiency Scaling
# -----------------------------
def get_scaled_efficiency(unit, key):
    """
    Returns the effective efficiency for a unit for a given enemy type key.
    If SCALE_EFFICIENCY is True, scales by (current health / max_health).
    """
    base = unit.efficiencies[key]
    return base * (unit.health / unit.max_health) if SCALE_EFFICIENCY else base

# -----------------------------
# Helper: Damage Allocation (Killable Feature)
# -----------------------------
def allocate_damage_to_targets(ordered_targets, attack_power, allocated_damage, remaining_health, verbose=False):
    """
    Given an ordered list of enemy targets (ordered highest score first), allocate the attacker's fixed damage.
    If any target can be killed with the remaining damage, allocate exactly its remaining health.
    Otherwise, assign all remaining damage to the top candidate.
    """
    damage_left = attack_power
    while damage_left > 0 and ordered_targets:
        killable = [enemy for enemy in ordered_targets if remaining_health[enemy] <= damage_left]
        if killable:
            for enemy in ordered_targets:
                if remaining_health[enemy] <= damage_left:
                    alloc = remaining_health[enemy]
                    allocated_damage[enemy] += alloc
                    damage_left -= alloc
                    remaining_health[enemy] = 0
                    if verbose:
                        print(f"    Allocated {alloc} damage to {enemy} (killed)")
                    ordered_targets.remove(enemy)
                    break
        else:
            enemy = ordered_targets[0]
            alloc = min(damage_left, remaining_health[enemy])
            allocated_damage[enemy] += alloc
            remaining_health[enemy] -= alloc
            damage_left -= alloc
            if verbose:
                print(f"    Allocated {alloc} damage to {enemy} (not killed)")
            if remaining_health[enemy] <= 0:
                ordered_targets.remove(enemy)
    return allocated_damage

# -----------------------------
# OLD (Non‑Health Adjusted) Policies (with explicit health prioritization and optional scaling)
# -----------------------------
def old_most_efficient(attacking_army, enemy_army, verbose=False):
    """
    Orders enemy units by the attacker's (scaled) efficiency against them,
    with secondary sort by 1/enemy.health.
    """
    allocated_damage = {enemy: 0 for enemy in enemy_army}
    remaining_health = {enemy: enemy.health for enemy in enemy_army}
    attackers = list(attacking_army)
    random.shuffle(attackers)
    for attacker in attackers:
        available = [enemy for enemy in enemy_army
                     if remaining_health[enemy] > 0 and enemy.unit_type in attacker.efficiencies]
        if not available:
            continue
        ordered_targets = sorted(
            available,
            key=lambda enemy: (get_scaled_efficiency(attacker, enemy.unit_type), 1/enemy.health),
            reverse=True
        )
        attack_power = max(attacker.efficiencies.values())
        if verbose:
            print(f"{attacker} (power {attack_power}) OLD most_efficient targets: {ordered_targets}")
        allocate_damage_to_targets(ordered_targets, attack_power, allocated_damage, remaining_health, verbose)
    return allocated_damage

def old_most_dangerous(attacking_army, enemy_army, verbose=False):
    """
    Orders enemy units by the enemy's (scaled) danger against the attacker,
    with secondary sort by 1/enemy.health.
    """
    allocated_damage = {enemy: 0 for enemy in enemy_army}
    remaining_health = {enemy: enemy.health for enemy in enemy_army}
    attackers = list(attacking_army)
    random.shuffle(attackers)
    for attacker in attackers:
        available = [enemy for enemy in enemy_army
                     if remaining_health[enemy] > 0 and enemy.unit_type in attacker.efficiencies]
        if not available:
            continue
        # For danger, use get_scaled_efficiency on enemy.
        ordered_targets = sorted(
            available,
            key=lambda enemy: (get_scaled_efficiency(enemy, attacker.unit_type), 1/enemy.health),
            reverse=True
        )
        attack_power = max(attacker.efficiencies.values())
        if verbose:
            print(f"{attacker} (power {attack_power}) OLD most_dangerous targets: {ordered_targets}")
        allocate_damage_to_targets(ordered_targets, attack_power, allocated_damage, remaining_health, verbose)
    return allocated_damage

def old_product(attacking_army, enemy_army, verbose=False):
    """
    For each attacker, compute:
      effective_vulnerability = get_scaled_efficiency(attacker, enemy.unit_type)
      effective_danger = get_scaled_efficiency(enemy, attacker.unit_type)
      product = effective_vulnerability * effective_danger.
    Order targets by (product, 1/enemy.health) descending.
    """
    allocated_damage = {enemy: 0 for enemy in enemy_army}
    remaining_health = {enemy: enemy.health for enemy in enemy_army}
    attackers = list(attacking_army)
    random.shuffle(attackers)
    for attacker in attackers:
        available = [enemy for enemy in enemy_army
                     if remaining_health[enemy] > 0 and enemy.unit_type in attacker.efficiencies]
        if not available:
            continue
        candidates = []
        for enemy in available:
            effective_vul = get_scaled_efficiency(attacker, enemy.unit_type)
            effective_danger = get_scaled_efficiency(enemy, attacker.unit_type)
            product = effective_vul * effective_danger
            candidates.append((enemy, product, 1/enemy.health))
        candidates.sort(key=lambda x: (x[1], x[2]), reverse=True)
        ordered_targets = [enemy for enemy, prod, _ in candidates]
        attack_power = max(attacker.efficiencies.values())
        if verbose:
            print(f"{attacker} (power {attack_power}) OLD product targets:")
            for enemy, prod, invh in candidates:
                print(f"  {enemy} product: {prod:.2f}, 1/health: {invh:.2f}")
        allocate_damage_to_targets(ordered_targets, attack_power, allocated_damage, remaining_health, verbose)
    return allocated_damage

def old_weighted_product(attacking_army, enemy_army, verbose=False):
    """
    Computes weighted danger for each enemy as:
         weighted_danger = (Σ [get_scaled_efficiency(enemy, t) * count(t)]) / (total attackers)
    For each attacker, effective_vulnerability = get_scaled_efficiency(attacker, enemy.unit_type).
    Then product = weighted_danger * effective_vulnerability.
    Order targets by (product, 1/enemy.health) descending.
    """
    allocated_damage = {enemy: 0 for enemy in enemy_army}
    remaining_health = {enemy: enemy.health for enemy in enemy_army}
    composition, total_attackers = compute_composition(attacking_army)
    enemy_weighted_danger = {}
    for enemy in enemy_army:
        tot = sum(get_scaled_efficiency(enemy, t) * count for t, count in composition.items())
        enemy_weighted_danger[enemy] = tot / total_attackers if total_attackers > 0 else 0
    attackers = list(attacking_army)
    random.shuffle(attackers)
    for attacker in attackers:
        available = [enemy for enemy in enemy_army
                     if remaining_health[enemy] > 0 and enemy.unit_type in attacker.efficiencies]
        if not available:
            continue
        candidates = []
        for enemy in available:
            effective_vul = get_scaled_efficiency(attacker, enemy.unit_type)
            product = enemy_weighted_danger[enemy] * effective_vul
            candidates.append((enemy, product, 1/enemy.health))
        candidates.sort(key=lambda x: (x[1], x[2]), reverse=True)
        ordered_targets = [enemy for enemy, prod, _ in candidates]
        attack_power = max(attacker.efficiencies.values())
        if verbose:
            print(f"{attacker} (power {attack_power}) OLD weighted_product targets:")
            for enemy, prod, invh in candidates:
                print(f"  {enemy} weighted product: {prod:.2f}, 1/health: {invh:.2f} (weighted danger: {enemy_weighted_danger[enemy]:.2f})")
        allocate_damage_to_targets(ordered_targets, attack_power, allocated_damage, remaining_health, verbose)
    return allocated_damage

def old_weighted_danger(attacking_army, enemy_army, verbose=False):
    """
    Orders enemy targets solely by their weighted danger computed as:
         weighted_danger = (Σ [get_scaled_efficiency(enemy, t) * count(t)]) / (total attackers)
    with secondary sort 1/enemy.health.
    """
    allocated_damage = {enemy: 0 for enemy in enemy_army}
    remaining_health = {enemy: enemy.health for enemy in enemy_army}
    composition, total_attackers = compute_composition(attacking_army)
    enemy_weighted_danger = {}
    for enemy in enemy_army:
        tot = sum(get_scaled_efficiency(enemy, t) * count for t, count in composition.items())
        enemy_weighted_danger[enemy] = tot / total_attackers if total_attackers > 0 else 0
    attackers = list(attacking_army)
    random.shuffle(attackers)
    for attacker in attackers:
        available = [enemy for enemy in enemy_army
                     if remaining_health[enemy] > 0 and enemy.unit_type in attacker.efficiencies]
        if not available:
            continue
        ordered_targets = sorted(
            available,
            key=lambda enemy: (enemy_weighted_danger[enemy], 1/enemy.health),
            reverse=True
        )
        attack_power = max(attacker.efficiencies.values())
        if verbose:
            print(f"{attacker} (power {attack_power}) OLD weighted_danger targets:")
            for enemy in ordered_targets:
                print(f"  {enemy} weighted danger: {enemy_weighted_danger[enemy]:.2f}, 1/health: {1/enemy.health:.2f}")
        allocate_damage_to_targets(ordered_targets, attack_power, allocated_damage, remaining_health, verbose)
    return allocated_damage

# -----------------------------
# NEW (Health‑Adjusted) Policies (with efficiency scaling applied as well)
# -----------------------------
def new_most_efficient_health(attacking_army, enemy_army, verbose=False):
    """
    Orders enemy targets by (get_scaled_efficiency(attacker, enemy.unit_type) / enemy.health),
    with secondary sort by 1/enemy.health.
    """
    allocated_damage = {enemy: 0 for enemy in enemy_army}
    remaining_health = {enemy: enemy.health for enemy in enemy_army}
    attackers = list(attacking_army)
    random.shuffle(attackers)
    for attacker in attackers:
        available = [enemy for enemy in enemy_army
                     if remaining_health[enemy] > 0 and enemy.unit_type in attacker.efficiencies]
        if not available:
            continue
        ordered_targets = sorted(
            available,
            key=lambda enemy: (get_scaled_efficiency(attacker, enemy.unit_type) / enemy.health, 1/enemy.health),
            reverse=True
        )
        attack_power = max(attacker.efficiencies.values())
        if verbose:
            print(f"{attacker} (power {attack_power}) NEW most_efficient_health targets: {ordered_targets}")
        allocate_damage_to_targets(ordered_targets, attack_power, allocated_damage, remaining_health, verbose)
    return allocated_damage

def new_most_dangerous_health(attacking_army, enemy_army, verbose=False):
    """
    Orders enemy targets by (get_scaled_efficiency(enemy, attacker.unit_type) / enemy.health),
    with secondary sort by 1/enemy.health.
    """
    allocated_damage = {enemy: 0 for enemy in enemy_army}
    remaining_health = {enemy: enemy.health for enemy in enemy_army}
    attackers = list(attacking_army)
    random.shuffle(attackers)
    for attacker in attackers:
        available = [enemy for enemy in enemy_army
                     if remaining_health[enemy] > 0 and enemy.unit_type in attacker.efficiencies]
        if not available:
            continue
        ordered_targets = sorted(
            available,
            key=lambda enemy: (get_scaled_efficiency(enemy, attacker.unit_type) / enemy.health, 1/enemy.health),
            reverse=True
        )
        attack_power = max(attacker.efficiencies.values())
        if verbose:
            print(f"{attacker} (power {attack_power}) NEW most_dangerous_health targets: {ordered_targets}")
        allocate_damage_to_targets(ordered_targets, attack_power, allocated_damage, remaining_health, verbose)
    return allocated_damage

def new_product_health(attacking_army, enemy_army, verbose=False):
    """
    For each attacker, compute:
      effective_vulnerability = get_scaled_efficiency(attacker, enemy.unit_type) / enemy.health
      effective_danger = get_scaled_efficiency(enemy, attacker.unit_type)
      product = effective_vulnerability * effective_danger.
    Order targets by (product, 1/enemy.health) descending.
    """
    allocated_damage = {enemy: 0 for enemy in enemy_army}
    remaining_health = {enemy: enemy.health for enemy in enemy_army}
    attackers = list(attacking_army)
    random.shuffle(attackers)
    for attacker in attackers:
        available = [enemy for enemy in enemy_army
                     if remaining_health[enemy] > 0 and enemy.unit_type in attacker.efficiencies]
        if not available:
            continue
        candidates = []
        for enemy in available:
            effective_vul = get_scaled_efficiency(attacker, enemy.unit_type) / enemy.health
            effective_danger = get_scaled_efficiency(enemy, attacker.unit_type)
            product = effective_vul * effective_danger
            candidates.append((enemy, product, 1/enemy.health))
        candidates.sort(key=lambda x: (x[1], x[2]), reverse=True)
        ordered_targets = [enemy for enemy, prod, _ in candidates]
        attack_power = max(attacker.efficiencies.values())
        if verbose:
            print(f"{attacker} (power {attack_power}) NEW product_health targets:")
            for enemy, prod, invh in candidates:
                print(f"  {enemy} product: {prod:.2f}, 1/health: {invh:.2f}")
        allocate_damage_to_targets(ordered_targets, attack_power, allocated_damage, remaining_health, verbose)
    return allocated_damage

def new_weighted_product_health(attacking_army, enemy_army, verbose=False):
    """
    For each enemy, compute weighted danger as:
      weighted_danger = (Σ_{t in attacker types} [ get_scaled_efficiency(enemy, t) * count(t) ]) / (total attackers)
    For each attacker, effective_vulnerability = get_scaled_efficiency(attacker, enemy.unit_type) / enemy.health.
    Then product = weighted_danger * effective_vulnerability.
    Order targets by (product, 1/enemy.health) descending.
    """
    allocated_damage = {enemy: 0 for enemy in enemy_army}
    remaining_health = {enemy: enemy.health for enemy in enemy_army}
    composition, total_attackers = compute_composition(attacking_army)
    enemy_weighted_danger = {}
    for enemy in enemy_army:
        tot = sum(get_scaled_efficiency(enemy, t) * count for t, count in composition.items())
        enemy_weighted_danger[enemy] = tot / total_attackers if total_attackers > 0 else 0
    attackers = list(attacking_army)
    random.shuffle(attackers)
    for attacker in attackers:
        available = [enemy for enemy in enemy_army
                     if remaining_health[enemy] > 0 and enemy.unit_type in attacker.efficiencies]
        if not available:
            continue
        candidates = []
        for enemy in available:
            effective_vul = get_scaled_efficiency(attacker, enemy.unit_type) / enemy.health
            product = enemy_weighted_danger[enemy] * effective_vul
            candidates.append((enemy, product, 1/enemy.health))
        candidates.sort(key=lambda x: (x[1], x[2]), reverse=True)
        ordered_targets = [enemy for enemy, prod, _ in candidates]
        attack_power = max(attacker.efficiencies.values())
        if verbose:
            print(f"{attacker} (power {attack_power}) NEW weighted_product_health targets:")
            for enemy, prod, invh in candidates:
                print(f"  {enemy} weighted product: {prod:.2f}, 1/health: {invh:.2f} (weighted danger: {enemy_weighted_danger[enemy]:.2f})")
        allocate_damage_to_targets(ordered_targets, attack_power, allocated_damage, remaining_health, verbose)
    return allocated_damage

def new_weighted_danger_health(attacking_army, enemy_army, verbose=False):
    """
    Orders enemy targets solely by their weighted danger computed as:
      weighted_danger = (Σ_{t in attacker types} [ get_scaled_efficiency(enemy, t) * count(t) ]) / (total attackers)
      then health adjusted score is weighted_danger / enemy.health
    with secondary sort by 1/enemy.health.
    """
    allocated_damage = {enemy: 0 for enemy in enemy_army}
    remaining_health = {enemy: enemy.health for enemy in enemy_army}
    composition, total_attackers = compute_composition(attacking_army)
    enemy_weighted_danger = {}
    for enemy in enemy_army:
        tot = sum(get_scaled_efficiency(enemy, t) * count for t, count in composition.items())
        enemy_weighted_danger[enemy] = tot / total_attackers if total_attackers > 0 else 0
    attackers = list(attacking_army)
    random.shuffle(attackers)
    for attacker in attackers:
        available = [enemy for enemy in enemy_army
                     if remaining_health[enemy] > 0 and enemy.unit_type in attacker.efficiencies]
        if not available:
            continue
        ordered_targets = sorted(
            available,
            key=lambda enemy: (enemy_weighted_danger[enemy]/enemy.health, 1/enemy.health),
            reverse=True
        )
        attack_power = max(attacker.efficiencies.values())
        if verbose:
            print(f"{attacker} (power {attack_power}) NEW weighted_danger_health targets:")
            for enemy in ordered_targets:
                print(f"  {enemy} weighted danger: {enemy_weighted_danger[enemy]:.2f}, 1/health: {1/enemy.health:.2f}")
        allocate_damage_to_targets(ordered_targets, attack_power, allocated_damage, remaining_health, verbose)
    return allocated_damage

# -----------------------------
# Simulation Function
# -----------------------------
def simulate_combat(army1, army2, policy_army1, policy_army2, verbose=False):
    """
    Simulates combat between two armies using the specified targeting policy functions.
    The simulation runs in discrete time steps until one army is eliminated.
    Returns (steps, remaining_army1, remaining_army2, history), where history records surviving units per timestep.
    """
    step = 0
    history = {'steps': [], 'army1_counts': [], 'army2_counts': []}
    history['steps'].append(step)
    history['army1_counts'].append(len(army1))
    history['army2_counts'].append(len(army2))

    while army1 and army2:
        if verbose:
            print(f"\nTime Step {step}:")
            print(f" Army1: {army1}")
            print(f" Army2: {army2}")
        damage_to_army2 = policy_army1(army1, army2, verbose=verbose)
        damage_to_army1 = policy_army2(army2, army1, verbose=verbose)

        new_army1 = []
        for unit in army1:
            dmg = damage_to_army1.get(unit, 0)
            unit.health -= dmg
            if verbose:
                print(f" {unit} from Army1 takes {dmg} damage, new HP: {unit.health}")
            if unit.health > 0:
                new_army1.append(unit)
            else:
                if verbose:
                    print(f" {unit} is destroyed!")
        new_army2 = []
        for unit in army2:
            dmg = damage_to_army2.get(unit, 0)
            unit.health -= dmg
            if verbose:
                print(f" {unit} from Army2 takes {dmg} damage, new HP: {unit.health}")
            if unit.health > 0:
                new_army2.append(unit)
            else:
                if verbose:
                    print(f" {unit} is destroyed!")
        army1, army2 = new_army1, new_army2
        step += 1
        history['steps'].append(step)
        history['army1_counts'].append(len(army1))
        history['army2_counts'].append(len(army2))

    return step, army1, army2, history

# -----------------------------
# Main Function & Policy Selection
# -----------------------------
def main():
    # Define armies.
   # Army 1:
    army1 = (
            [Unit("INF", 120, {"INF": 1, "MBT": 0.5, "DRN": 2}) for _ in
             range(200)] +  # Infantry Squad
            [Unit("MBT", 200, {"INF": 2, "MBT": 2, "DRN": 1}) for _ in
             range(8)] +  # Main Battle Tank
            [Unit("ADT", 100, {"INF": 1, "MBT": 1, "DRN": 3}) for _ in range(7)]  # Anti-Drone Team
    )

    # Army 2:
    army2 = (
            [Unit("INF", 120, {"INF": 1, "MBT": 0.5, "ADT": 2}) for _ in
             range(200)] +  # Infantry Section
            [Unit("MBT", 180, {"INF": 2, "MBT": 1.5, "ADT": 1}) for _ in
             range(7)] +  # Armored Vehicle
            [Unit("DRN", 80, {"INF": 3, "MBT": 1, "ADT": 2}) for _ in range(10)]
    )

    # Dictionary mapping new policies (health-adjusted with scaling) to functions.
    new_policies = {
        "most_efficient": new_most_efficient_health,
        "most_dangerous": new_most_dangerous_health,
        "product": new_product_health,
        "weighted_product": new_weighted_product_health,
        "weighted_danger": new_weighted_danger_health
    }

    # Dictionary mapping old policies (non-health-adjusted scoring but with explicit health prioritization)
    # with optional scaling applied.
    old_policies = {
        "most_efficient": old_most_efficient,
        "most_dangerous": old_most_dangerous,
        "product": old_product,
        "weighted_product": old_weighted_product,
        "weighted_danger": old_weighted_danger
    }

    # You can choose either set for each army.
    # For example, here Army1 uses the "most_efficient_health" policy and Army2 uses "weighted_product_health".
    policy_army1 = old_policies["weighted_danger"]
    policy_army2 = old_policies["most_efficient"]



    # Set verbose=True to print per-timestep details.
    steps, remaining_army1, remaining_army2, history = simulate_combat(
        army1, army2, policy_army1, policy_army2, verbose=False
    )

    print(f"\nCombat ended after {steps} time steps.")
    if remaining_army1:
        print("Army1 wins with surviving units:")
        print(remaining_army1)
        print(len(remaining_army1))
    elif remaining_army2:
        print("Army2 wins with surviving units:")
        print(remaining_army2)
        print(len(remaining_army2))
    else:
        print("Both armies have been completely destroyed.")

    # Plot evolution of unit counts.
    plt.figure(figsize=(8, 5))
    plt.plot(history['steps'], history['army1_counts'], marker='o', label="Army 1 Units")
    plt.plot(history['steps'], history['army2_counts'], marker='o', label="Army 2 Units")
    plt.xlabel("Time Step")
    plt.ylabel("Number of Units")
    plt.title("Number of Units vs. Time Step")
    plt.legend()
    plt.grid(True)
    plt.show()

if __name__ == '__main__':
    main()
